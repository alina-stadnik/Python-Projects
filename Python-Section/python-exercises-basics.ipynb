{
 "cells": [
  {
   "cell_type": "markdown",
   "metadata": {},
   "source": [
    "### **Programming exercises in Python**"
   ]
  },
  {
   "cell_type": "markdown",
   "metadata": {},
   "source": [
    "1. **Simple Calculator**: Create a program that asks the user for two numbers and performs simple operations such as addition, subtraction, multiplication, and division.\n",
    "\n",
    "1. **Calculadora Simples**: Crie um programa que solicite ao usuário dois números e realize operações simples, como adição, subtração, multiplicação e divisão."
   ]
  },
  {
   "cell_type": "code",
   "execution_count": 15,
   "metadata": {},
   "outputs": [],
   "source": [
    "a = float(input('Digite um numero: '))\n",
    "b = float(input('Digite outro numero: '))"
   ]
  },
  {
   "cell_type": "code",
   "execution_count": 23,
   "metadata": {},
   "outputs": [
    {
     "name": "stdout",
     "output_type": "stream",
     "text": [
      "Os valores 12.0 e 1.1 sao validos.\n"
     ]
    }
   ],
   "source": [
    "if isinstance(a, float) and isinstance(b, float):\n",
    "    print(f'Os valores {a} e {b} sao validos.')\n",
    "else:\n",
    "    print('Revise os valore digitados.')"
   ]
  },
  {
   "cell_type": "code",
   "execution_count": 37,
   "metadata": {},
   "outputs": [
    {
     "name": "stdout",
     "output_type": "stream",
     "text": [
      "A adição de 12.0 + 1.1 = 13.10\n",
      "A subtração de 12.0 - 1.1 = 10.90\n",
      "A multiplicação de 12.0 x 1.1 = 13.20\n",
      "A divisão de 12.0 ÷ 1.1 = 10.91\n"
     ]
    }
   ],
   "source": [
    "print(f'A adição de {a} + {b} = {(a + b):,.2f}')\n",
    "print(f'A subtração de {a} - {b} = {(a - b):,.2f}')\n",
    "print(f'A multiplicação de {a} x {b} = {(a * b):,.2f}')\n",
    "print(f'A divisão de {a} ÷ {b} = {(a / b):,.2f}')"
   ]
  },
  {
   "cell_type": "markdown",
   "metadata": {},
   "source": [
    "2. **Temperature Converter**: Create a program that allows the user to convert a temperature from Celsius to Fahrenheit or vice versa, based on their choice.\n",
    "\n",
    "2. **Conversor de Temperatura**: Crie um programa que permita ao usuário converter uma temperatura de Celsius para Fahrenheit ou vice-versa, com base em sua escolha."
   ]
  },
  {
   "cell_type": "markdown",
   "metadata": {},
   "source": [
    "<p align=\"center\">\n",
    "<img src=\"https://www.infoescola.com/wp-content/uploads/2010/01/escalas-termometricas1.jpg\">\n",
    "</p>"
   ]
  },
  {
   "cell_type": "code",
   "execution_count": 45,
   "metadata": {},
   "outputs": [],
   "source": [
    "cel_temp = float(input('Insira uma temperatura em Celsius: '))\n",
    "temp = int(input(f'Converter {cel_temp} para Fahrenheit digite 1 ou 2 para Kelvin: '))"
   ]
  },
  {
   "cell_type": "code",
   "execution_count": 47,
   "metadata": {},
   "outputs": [
    {
     "name": "stdout",
     "output_type": "stream",
     "text": [
      "O valor 28.6 eh valido.\n",
      "O valor 1 eh valido. A conversao sera para feita de Celsius para Fahrenheit.\n"
     ]
    }
   ],
   "source": [
    "if isinstance(cel_temp, float):\n",
    "    print(f'O valor {cel_temp} eh valido.')\n",
    "else:\n",
    "    print('Revise o valor digitado.')\n",
    "\n",
    "if isinstance(temp, int):\n",
    "    if temp == 1:\n",
    "        print(f'O valor {temp} eh valido. A conversao sera para feita de Celsius para Fahrenheit.')\n",
    "    elif temp == 2:\n",
    "        print(f'O valor {temp} eh valido. A conversao sera para feita de Celsius para Kelvin.')\n",
    "else:\n",
    "    print('Revise o valor digitado.')"
   ]
  },
  {
   "cell_type": "code",
   "execution_count": 49,
   "metadata": {},
   "outputs": [
    {
     "name": "stdout",
     "output_type": "stream",
     "text": [
      "A conversão de 28.6 °C para Fahrenheit eh de 83.48 °F\n"
     ]
    }
   ],
   "source": [
    "fahre_temp = (cel_temp * (9/5)) + 32\n",
    "kelvin_temp = cel_temp + 273.15\n",
    "\n",
    "if temp == 1:\n",
    "    print(f'A conversão de {cel_temp} °C para Fahrenheit eh de {fahre_temp:,.2f} °F')\n",
    "elif temp == 2:\n",
    "    print(f'A conversão de {cel_temp} °C para Kelvin eh de {kelvin_temp:,.2f} °K')\n",
    "else:\n",
    "    print('Revise os valores digitados.')"
   ]
  },
  {
   "cell_type": "markdown",
   "metadata": {},
   "source": [
    "3. **Dice Roll Simulator**: Create a program that simulates rolling a 6-sided die and displays the result.\n",
    "\n",
    "3. **Simulador de Lançamento de Dados**: Crie um programa que simule o lançamento de um dado de 6 faces e exiba o resultado."
   ]
  },
  {
   "cell_type": "code",
   "execution_count": 63,
   "metadata": {},
   "outputs": [
    {
     "name": "stdout",
     "output_type": "stream",
     "text": [
      "Valor aleatorio de 1 ate 6: 3\n"
     ]
    }
   ],
   "source": [
    "import random\n",
    "\n",
    "print(f'Valor aleatorio de 1 ate 6: {random.randrange(1,6)}')"
   ]
  },
  {
   "cell_type": "markdown",
   "metadata": {},
   "source": [
    "4. **Even or Odd Number Checker**: Develop a program that asks the user for a number and determines whether it is even or odd.\n",
    "\n",
    "4. **Verificador de Número Par ou Ímpar**: Desenvolva um programa que peça ao usuário um número e determine se ele é par ou ímpar."
   ]
  },
  {
   "cell_type": "code",
   "execution_count": 83,
   "metadata": {},
   "outputs": [
    {
     "name": "stdout",
     "output_type": "stream",
     "text": [
      "O valor 12.698 eh valido.\n"
     ]
    }
   ],
   "source": [
    "valor = float(input('Digite um numero: '))\n",
    "\n",
    "if isinstance(valor, float):\n",
    "    print(f'O valor {valor} eh valido.')\n",
    "else:\n",
    "    print('Revise o valor digitado.')"
   ]
  },
  {
   "cell_type": "code",
   "execution_count": 88,
   "metadata": {},
   "outputs": [
    {
     "name": "stdout",
     "output_type": "stream",
     "text": [
      "13 eh ímpar!\n"
     ]
    }
   ],
   "source": [
    "if round(valor) % 2 == 0:\n",
    "    print(f'{round(valor)} eh par!')\n",
    "else:\n",
    "    print(f'{round(valor)} eh ímpar!')"
   ]
  }
 ],
 "metadata": {
  "kernelspec": {
   "display_name": "herb-env",
   "language": "python",
   "name": "python3"
  },
  "language_info": {
   "codemirror_mode": {
    "name": "ipython",
    "version": 3
   },
   "file_extension": ".py",
   "mimetype": "text/x-python",
   "name": "python",
   "nbconvert_exporter": "python",
   "pygments_lexer": "ipython3",
   "version": "3.11.5"
  },
  "orig_nbformat": 4
 },
 "nbformat": 4,
 "nbformat_minor": 2
}
