{
 "cells": [
  {
   "cell_type": "markdown",
   "metadata": {},
   "source": [
    "## **Streaming Service Project:**\n",
    "\n",
    "> Goal: **data gathering**, **cleaning** and **expoloratory analysis**.\n",
    "\n",
    "**Situation**: you've just been hired as jr. data scientist for a streaming service that's been losing more customers than usual the past few months and would like to use data science to figure out how to reduce customer churn.\n",
    "\n",
    "**Assignment**: You'll have access to data on this streaming service customers, including subscription details and music listening history. Your task is to gather, clean, and explore the data to provde insights about recent customer churn issues, then prepare it for modeling in the future."
   ]
  },
  {
   "cell_type": "markdown",
   "metadata": {},
   "source": [
    "**Objectives**:\n",
    "1. **Scope** the data science project:\n",
    "    - Who are your end user or stackeholders?\n",
    "    - What business problems are you trying to help them solve?\n",
    "    - Is this a supervised or unsupervised learning problem? _(do you even need data science?)_\n",
    "    - What data do you need for you analysis?\n",
    "    \n",
    "2. **Gather** the data in Python (Data can come from a variety of sources):\n",
    "    - files (flat files, spreadsheets, etc) \n",
    "    - databases (relational and non-relational)\n",
    "    - websites\n",
    "    - APIs, etc.\n",
    "\n",
    "3. **Clean** the data:\n",
    "    - Correcting data types\n",
    "    - Imputing missing data\n",
    "    - Dealing with data inconsistencies\n",
    "    - Reformatting the data\n",
    "\n",
    "4. **Explore** & visualize the data (EDA) -> a good number of the **final insights** that you share will come from the EDA phase:\n",
    "    - Slicing & dicing the data\n",
    "    - Summarizing the data\n",
    "    - Visualizing the data\n",
    "\n",
    "5. **Prepare** the data for modeling:\n",
    "    - Restructuring the data\n",
    "    - Feature engineering (adding new fields)\n",
    "    - Applying ML algorithms\n",
    "    \n",
    "6. **Sharing** insights (the focus here is on **non-technical solutions** -> the potential impact of your analysis):\n",
    "    - Reiterate the problem\n",
    "    - Interpret the results of your analysis\n",
    "    - Share recommendations and next steps\n",
    "    - _NOTE:_ another way to share results is to deploy your model, or put it into production."
   ]
  },
  {
   "cell_type": "markdown",
   "metadata": {},
   "source": [
    "#### **Scoping the poblem:** \n",
    "\n",
    "_What is the problem?_\n",
    "What is causing the cancellation rate increase?\n",
    "- is the product differentiated from competitors?\n",
    "- are technical bugs or limitations to blame?\n",
    "- is the product too expensive?\n",
    "- do we need to expand our music library?\n",
    "- do we even know **WHY** customers are cancelling?\n",
    "\n",
    "_What are the potential solutions?_\n",
    "\n",
    "\n",
    "![Image](images\\solution-streaming-service.png.jpeg) \n",
    "\n",
    "> Supervised or Unsupervised learning problem?\n",
    "\n",
    "![Image](images\\supervised-unsupervised-problem.png.jpeg)\n",
    "\n",
    "#### **Data Structure**\n",
    "\n",
    "- How you **structure your data** often depends on which technique you're using:\n",
    "    - A **supervisded** learning model takes in **labeled** data (the outcome you want to predict). -> **predict**\n",
    "        - Example: _Predicting which customers are likely to cancel._\n",
    "    - An **unsupervised** learning model takes in **unlabeled** data. -> **patterns** or **relationships**\n",
    "        - Example: _Clustering customers based on listening behavior._\n",
    "\n",
    "#### **Model Features**\n",
    "\n",
    "To identify relevant model features, brainstorm any potential variables that might be useful as model inputs based on your goal, for example:\n",
    "- Supervised learning: features that will do a good job predicting cancellations\n",
    "- Unsupervised learning: features that will do a good job differentiating customers\n",
    "\n",
    "#### **Data Sources**\n",
    "\n",
    "![Image](images\\data-sources.png.jpeg)  \n",
    "\n",
    "> Next, narrow the scope of your data to remove sources that are difficult to obtain and prioritize the rest: **Remember that more data doesn’t necessarily mean a better model!**\n",
    "\n",
    "#### **Summarize the scope and objectives**\n",
    "\n",
    "- What techniques and data do you plan to leverage?\n",
    "- What specific impact are you trying to make?\n",
    "\n",
    "### **Final scope for Steaming Service:**\n",
    "'We plan to use **supervised learning** to predict which customers are likely to cancel their subscription, using **the past three months of subscription and listening history**. This will allow us to:\n",
    "- Identify the **top predictors for cancellation** and figure out\n",
    "how to address them;\n",
    "- Use the model to **flag customers who are likely to cancel**\n",
    "and take proactive steps to keep them subscribed;\n",
    "\n",
    "Our goal is to **reduce cancellations by 2%** over the next year'\n",
    "\n"
   ]
  },
  {
   "cell_type": "code",
   "execution_count": null,
   "metadata": {},
   "outputs": [],
   "source": [
    "# Cleaning Data\n",
    "\n"
   ]
  }
 ],
 "metadata": {
  "kernelspec": {
   "display_name": "venv",
   "language": "python",
   "name": "python3"
  },
  "language_info": {
   "codemirror_mode": {
    "name": "ipython",
    "version": 3
   },
   "file_extension": ".py",
   "mimetype": "text/x-python",
   "name": "python",
   "nbconvert_exporter": "python",
   "pygments_lexer": "ipython3",
   "version": "3.11.5"
  },
  "orig_nbformat": 4
 },
 "nbformat": 4,
 "nbformat_minor": 2
}
