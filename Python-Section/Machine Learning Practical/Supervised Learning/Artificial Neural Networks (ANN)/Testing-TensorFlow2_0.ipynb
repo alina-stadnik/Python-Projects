{
 "cells": [
  {
   "cell_type": "markdown",
   "metadata": {},
   "source": [
    "## **TensorFlow**\n",
    "\n",
    "**TensorFlow** is an open-source machine learning framework developed by the Google Brain team. It's a versatile and powerful machine learning framework that is widely used in both research and industry. TensorFlow offers a rich ecosystem and a variety of tools to support the development, training, and deployment of machine learning models, particularly deep learning models. \n",
    "\n",
    "- **Tensor Computation**: It's designed to facilitate the development and deployment of machine learning and deep learning models. Tensor is a general name of multi-way array data. It's the standard way of representing data in TensorFlow. Tensors are multidimensional arrays, an extension of two-dimensional tables (matrices) yo data with higher dimension.\n",
    "\n",
    "![image](https://tensorflownet.readthedocs.io/en/latest/_static/tensor-naming.png)\n",
    "\n",
    "For example, 1d-tensor is a vector, 2d-tensor is a matrix and 3d-tensor is a cube. The 4d-tensor can be imaged as a vector of cubes. In a similar way, 5d-tensor is a matrix of cubes, and 6d-tensor is a cube of cubes.\n",
    "\n",
    "![image](https://forum.huawei.com/enterprise/en/data/attachment/forum/202105/25/202703rdkpu52dhd2vgru6.png?%E6%88%AA%E5%9B%BE1.PNG)"
   ]
  },
  {
   "cell_type": "code",
   "execution_count": 11,
   "metadata": {},
   "outputs": [],
   "source": [
    "import tensorflow as tf\n",
    "import numpy as np"
   ]
  },
  {
   "cell_type": "code",
   "execution_count": 12,
   "metadata": {},
   "outputs": [
    {
     "data": {
      "text/plain": [
       "'2.14.0'"
      ]
     },
     "execution_count": 12,
     "metadata": {},
     "output_type": "execute_result"
    }
   ],
   "source": [
    "# check the current version of tf \n",
    "tf.__version__"
   ]
  },
  {
   "cell_type": "markdown",
   "metadata": {},
   "source": [
    "### **Creating a Tensor:**"
   ]
  },
  {
   "cell_type": "code",
   "execution_count": 13,
   "metadata": {},
   "outputs": [
    {
     "name": "stdout",
     "output_type": "stream",
     "text": [
      "tf.Tensor(3, shape=(), dtype=int32)\n"
     ]
    }
   ],
   "source": [
    "# Rank 0 Tensor (Scaler)\n",
    "a = tf.constant(3)\n",
    "print(a) # 'a' is a Rank 0 Tensor (0 dimensional array) of Int32"
   ]
  },
  {
   "cell_type": "code",
   "execution_count": 14,
   "metadata": {},
   "outputs": [
    {
     "name": "stdout",
     "output_type": "stream",
     "text": [
      "tf.Tensor([1 2 3 4], shape=(4,), dtype=int32)\n"
     ]
    }
   ],
   "source": [
    "# Rank 1 Tensor \n",
    "b = tf.constant([1 , 2 , 3 , 4])\n",
    "print(b) # 'b' is a Rank 1 Tensor of Int32"
   ]
  },
  {
   "cell_type": "code",
   "execution_count": 15,
   "metadata": {},
   "outputs": [
    {
     "name": "stdout",
     "output_type": "stream",
     "text": [
      "tf.Tensor(\n",
      "[[1 2]\n",
      " [3 4]], shape=(2, 2), dtype=int32)\n"
     ]
    }
   ],
   "source": [
    "# Rank 2 Tensor \n",
    "c = tf.constant([[1 , 2] , [3 , 4]])\n",
    "print(c) # 'c' is a Rank 2 Tensor of Int32\n",
    "\n",
    "# Similarly it's possible to create Tensor of any order "
   ]
  },
  {
   "cell_type": "markdown",
   "metadata": {},
   "source": [
    "### **Converting a Numpy array to Tensor**"
   ]
  },
  {
   "cell_type": "code",
   "execution_count": 16,
   "metadata": {},
   "outputs": [
    {
     "name": "stdout",
     "output_type": "stream",
     "text": [
      " Before  [1 2 3 4]\n",
      " After  tf.Tensor([1 2 3 4], shape=(4,), dtype=int32)\n"
     ]
    }
   ],
   "source": [
    "array = np.array([1 , 2 , 3 , 4])\n",
    "print(\" Before \" , array)\n",
    "array = tf.convert_to_tensor(array)\n",
    "print(\" After \" , array)"
   ]
  },
  {
   "cell_type": "markdown",
   "metadata": {},
   "source": [
    "### **Arthematic operations on Tensor**"
   ]
  },
  {
   "cell_type": "code",
   "execution_count": 17,
   "metadata": {},
   "outputs": [],
   "source": [
    "# Sample 2D tensor\n",
    "tensor = tf.constant([[1 , 2] , [3 , 4]])"
   ]
  },
  {
   "cell_type": "code",
   "execution_count": 18,
   "metadata": {},
   "outputs": [
    {
     "name": "stdout",
     "output_type": "stream",
     "text": [
      " Added 1  tf.Tensor(\n",
      "[[2 3]\n",
      " [4 5]], shape=(2, 2), dtype=int32)\n"
     ]
    }
   ],
   "source": [
    "# Add 1 to all positions \n",
    "tensor = tf.add(tensor , 1)\n",
    "print(\" Added 1 \" , tensor)"
   ]
  },
  {
   "cell_type": "code",
   "execution_count": 19,
   "metadata": {},
   "outputs": [
    {
     "name": "stdout",
     "output_type": "stream",
     "text": [
      " Subtracted 1  tf.Tensor(\n",
      "[[1 2]\n",
      " [3 4]], shape=(2, 2), dtype=int32)\n"
     ]
    }
   ],
   "source": [
    "# Sub 1 from all positions \n",
    "tensor = tf.subtract(tensor , 1)\n",
    "print(\" Subtracted 1 \" , tensor)"
   ]
  },
  {
   "cell_type": "code",
   "execution_count": 20,
   "metadata": {},
   "outputs": [
    {
     "name": "stdout",
     "output_type": "stream",
     "text": [
      " Divide by 2  tf.Tensor(\n",
      "[[0.5 1. ]\n",
      " [1.5 2. ]], shape=(2, 2), dtype=float64)\n"
     ]
    }
   ],
   "source": [
    "# Div 2 on all positions \n",
    "tensor = tf.divide(tensor , 2)\n",
    "print(\" Divide by 2 \" , tensor)"
   ]
  },
  {
   "cell_type": "code",
   "execution_count": 21,
   "metadata": {},
   "outputs": [
    {
     "name": "stdout",
     "output_type": "stream",
     "text": [
      " Multiply by 2  tf.Tensor(\n",
      "[[1. 2.]\n",
      " [3. 4.]], shape=(2, 2), dtype=float64)\n"
     ]
    }
   ],
   "source": [
    "# Multiply with 2 \n",
    "tensor = tf.multiply(tensor , 2)\n",
    "print(\" Multiply by 2 \" , tensor)\n",
    "\n",
    "# it's possible to perform arthematic operations over vectors "
   ]
  },
  {
   "cell_type": "markdown",
   "metadata": {},
   "source": [
    "### **Matrix Multiplication**"
   ]
  },
  {
   "cell_type": "code",
   "execution_count": 22,
   "metadata": {},
   "outputs": [
    {
     "data": {
      "text/plain": [
       "<tf.Tensor: shape=(2, 2), dtype=int32, numpy=\n",
       "array([[ 7, 10],\n",
       "       [15, 22]])>"
      ]
     },
     "execution_count": 22,
     "metadata": {},
     "output_type": "execute_result"
    }
   ],
   "source": [
    "tensor = tf.constant([[1 , 2] , [3 , 4]])\n",
    "tf.matmul(tensor, tensor)"
   ]
  },
  {
   "cell_type": "code",
   "execution_count": 23,
   "metadata": {},
   "outputs": [
    {
     "data": {
      "text/plain": [
       "<tf.Tensor: shape=(2, 2), dtype=int32, numpy=\n",
       "array([[ 1,  4],\n",
       "       [ 9, 16]])>"
      ]
     },
     "execution_count": 23,
     "metadata": {},
     "output_type": "execute_result"
    }
   ],
   "source": [
    "tf.multiply(tensor , tensor)"
   ]
  },
  {
   "cell_type": "code",
   "execution_count": 3,
   "metadata": {},
   "outputs": [
    {
     "data": {
      "text/plain": [
       "<tf.Tensor: shape=(2, 2), dtype=float64, numpy=\n",
       "array([[ 1.,  2.],\n",
       "       [ 5., 10.]])>"
      ]
     },
     "execution_count": 3,
     "metadata": {},
     "output_type": "execute_result"
    }
   ],
   "source": [
    "tensor = tf.constant([[1,2], [5,10]], dtype=tf.float64)\n",
    "tensor"
   ]
  },
  {
   "cell_type": "markdown",
   "metadata": {},
   "source": [
    "### **Applying activation functions:**\n",
    "TensorFlow has all the Activation functions build it and ready to use."
   ]
  },
  {
   "cell_type": "code",
   "execution_count": 4,
   "metadata": {},
   "outputs": [
    {
     "data": {
      "text/plain": [
       "<tf.Tensor: shape=(2, 2), dtype=float64, numpy=\n",
       "array([[0.26894142, 0.73105858],\n",
       "       [0.00669285, 0.99330715]])>"
      ]
     },
     "execution_count": 4,
     "metadata": {},
     "output_type": "execute_result"
    }
   ],
   "source": [
    "# softmax\n",
    "tf.nn.softmax(tensor)"
   ]
  },
  {
   "cell_type": "code",
   "execution_count": 5,
   "metadata": {},
   "outputs": [
    {
     "data": {
      "text/plain": [
       "<tf.Tensor: shape=(2, 2), dtype=float64, numpy=\n",
       "array([[0.73105858, 0.88079708],\n",
       "       [0.99330715, 0.9999546 ]])>"
      ]
     },
     "execution_count": 5,
     "metadata": {},
     "output_type": "execute_result"
    }
   ],
   "source": [
    "# sigmoid\n",
    "tf.nn.sigmoid(tensor)"
   ]
  },
  {
   "cell_type": "code",
   "execution_count": 7,
   "metadata": {},
   "outputs": [
    {
     "data": {
      "text/plain": [
       "<tf.Tensor: shape=(2, 2), dtype=float64, numpy=\n",
       "array([[ 1.,  2.],\n",
       "       [ 5., 10.]])>"
      ]
     },
     "execution_count": 7,
     "metadata": {},
     "output_type": "execute_result"
    }
   ],
   "source": [
    "# ReLU\n",
    "tf.nn.relu(tensor)"
   ]
  },
  {
   "cell_type": "code",
   "execution_count": 8,
   "metadata": {},
   "outputs": [
    {
     "data": {
      "text/plain": [
       "<tf.Tensor: shape=(2, 2), dtype=float64, numpy=\n",
       "array([[ 1.,  2.],\n",
       "       [ 5., 10.]])>"
      ]
     },
     "execution_count": 8,
     "metadata": {},
     "output_type": "execute_result"
    }
   ],
   "source": [
    "# Leaky ReLU\n",
    "tf.nn.leaky_relu(tensor)"
   ]
  },
  {
   "cell_type": "markdown",
   "metadata": {},
   "source": [
    "### **Optimzers:**\n",
    "TensorFlow also has all optimizers build (opmtimizers module) it and ready to use."
   ]
  },
  {
   "cell_type": "code",
   "execution_count": 9,
   "metadata": {},
   "outputs": [
    {
     "name": "stdout",
     "output_type": "stream",
     "text": [
      "<keras.src.optimizers.adam.Adam object at 0x00000287497A5190>\n"
     ]
    }
   ],
   "source": [
    "# Adam\n",
    "optmizer = tf.keras.optimizers.Adam()\n",
    "print(optmizer) # refers to optimizer class created"
   ]
  },
  {
   "cell_type": "markdown",
   "metadata": {},
   "source": [
    "### **Basic Neural Network Structure:**"
   ]
  },
  {
   "cell_type": "code",
   "execution_count": 10,
   "metadata": {},
   "outputs": [
    {
     "name": "stdout",
     "output_type": "stream",
     "text": [
      "Model: \"sequential\"\n",
      "_________________________________________________________________\n",
      " Layer (type)                Output Shape              Param #   \n",
      "=================================================================\n",
      " dense (Dense)               (None, 32)                352       \n",
      "                                                                 \n",
      " dense_1 (Dense)             (None, 16)                528       \n",
      "                                                                 \n",
      "=================================================================\n",
      "Total params: 880 (3.44 KB)\n",
      "Trainable params: 880 (3.44 KB)\n",
      "Non-trainable params: 0 (0.00 Byte)\n",
      "_________________________________________________________________\n"
     ]
    }
   ],
   "source": [
    "# Start the model with sequential object\n",
    "model = tf.keras.models.Sequential()\n",
    "# It's used to connect all the layers\n",
    "\n",
    "# Next add a input object and specify the dimension you want to pass in\n",
    "model.add(tf.keras.Input(shape=(10,)))\n",
    "# the dimension should be the number of columns \n",
    "# in your dataset in case of predictive modeling\n",
    "\n",
    "# Add the neurons of 1st layer using dense object\n",
    "model.add(tf.keras.layers.Dense(32))\n",
    "\n",
    "# 2nd layer using dense object\n",
    "model.add(tf.keras.layers.Dense(16))\n",
    "\n",
    "# print summary to understand the neural network flow created\n",
    "model.summary()"
   ]
  },
  {
   "cell_type": "markdown",
   "metadata": {},
   "source": [
    "> If you keep adding more layers or increase the number of neurons in each layer, the trainable parameters increase as well."
   ]
  }
 ],
 "metadata": {
  "kernelspec": {
   "display_name": "venv",
   "language": "python",
   "name": "python3"
  },
  "language_info": {
   "codemirror_mode": {
    "name": "ipython",
    "version": 3
   },
   "file_extension": ".py",
   "mimetype": "text/x-python",
   "name": "python",
   "nbconvert_exporter": "python",
   "pygments_lexer": "ipython3",
   "version": "3.11.5"
  }
 },
 "nbformat": 4,
 "nbformat_minor": 2
}
