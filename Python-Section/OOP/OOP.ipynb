{
 "cells": [
  {
   "cell_type": "markdown",
   "metadata": {},
   "source": [
    "### **Object-Oriented Programming (OOP)**\n",
    "\n",
    "OOP is a programming paradigm that uses objects, which are instances of classes, to organize code. Python is an object-oriented programming language, and here are some key concepts and features of OOP in Python:\n",
    "\n",
    "1. **Classes and Objects**: A class is a blueprint for creating objects. It defines the properties (attributes) and behaviors (methods) that the objects created from the class will have. An object is an instance of a class, and it represents a real-world entity.\n",
    "2. **Encapsulation**: Encapsulation is the concept of bundling the data (attributes) and the methods (functions) that operate on the data within a single unit, i.e., a class. It helps in hiding the internal implementation details of a class and exposing only what is necessary.\n",
    "3. **Inheritance**: Inheritance allows a class (subclass or derived class) to inherit the properties and behaviors of another class (superclass or base class). It promotes code reusability by allowing a subclass to use and extend the features of a superclass.\n",
    "4. **Polymorphism**: Polymorphism allows objects of different classes to be treated as objects of a common base class. It can be achieved through method overloading (multiple methods with the same name but different parameters) and method overriding (subclasses providing a specific implementation of a method defined in the superclass).\n",
    "5. **Abstraction**: Abstraction is the process of simplifying complex systems by modeling classes based on the essential features and ignoring the irrelevant details.\n",
    "It allows programmers to focus on the high-level functionality of objects without getting into the low-level implementation details.\n",
    "6. **Instances and Constructors**: Instances are individual objects created from a class. Constructors are special methods in a class that are called when an object is created. In Python, the ``__init__`` method serves as the constructor."
   ]
  },
  {
   "cell_type": "code",
   "execution_count": 12,
   "metadata": {},
   "outputs": [
    {
     "name": "stdout",
     "output_type": "stream",
     "text": [
      "My name is Bob\n",
      "My name is Tod\n",
      "My name is Doug\n"
     ]
    }
   ],
   "source": [
    "# OOP\n",
    "\n",
    "student1 = ['Bob', 20, 'Professor']\n",
    "student2 = ['Tod', 18, 'Musician']\n",
    "student3 = ['Doug', 19, 'Writer']\n",
    "\n",
    "print('My name is', student1[0])\n",
    "print('My name is', student2[0])\n",
    "print('My name is', student3[0])"
   ]
  },
  {
   "cell_type": "code",
   "execution_count": 13,
   "metadata": {},
   "outputs": [
    {
     "name": "stdout",
     "output_type": "stream",
     "text": [
      "My name is: Bob , my age is: 20 , and my role is: Professor\n"
     ]
    }
   ],
   "source": [
    "# without OOP\n",
    "def createperson(student):\n",
    "    global name, age, role\n",
    "    name = student[0]\n",
    "    age = student[1]\n",
    "    role = student[2]\n",
    "    print('My name is:', name, \n",
    "          ', my age is:', age, \n",
    "          ', and my role is:', role)\n",
    "\n",
    "createperson(student1)"
   ]
  },
  {
   "cell_type": "code",
   "execution_count": 14,
   "metadata": {},
   "outputs": [
    {
     "name": "stdout",
     "output_type": "stream",
     "text": [
      "Bob\n",
      "20\n",
      "Professor\n"
     ]
    }
   ],
   "source": [
    "print(name)\n",
    "print(age)\n",
    "print(role)"
   ]
  },
  {
   "cell_type": "code",
   "execution_count": 15,
   "metadata": {},
   "outputs": [
    {
     "name": "stdout",
     "output_type": "stream",
     "text": [
      "My name is: Tod , my age is: 18 , and my role is: Musician\n"
     ]
    }
   ],
   "source": [
    "createperson(student2)"
   ]
  },
  {
   "cell_type": "code",
   "execution_count": 16,
   "metadata": {},
   "outputs": [
    {
     "name": "stdout",
     "output_type": "stream",
     "text": [
      "Tod\n",
      "18\n",
      "Musician\n"
     ]
    }
   ],
   "source": [
    "print(name)\n",
    "print(age)\n",
    "print(role)"
   ]
  },
  {
   "cell_type": "code",
   "execution_count": 32,
   "metadata": {},
   "outputs": [],
   "source": [
    "# with OOP\n",
    "\n",
    "class Person():\n",
    "    # method:\n",
    "    def create_person(self, person):\n",
    "        # attributes of the class person\n",
    "        self.name = person[0]\n",
    "        self.age = person[1]\n",
    "        self.role = person[2]\n",
    "        print('The person ' + self.name + ' has been created.')\n",
    "\n",
    "    def display_person(self):\n",
    "        print('The name of this person is ' + self.name +\n",
    "              '; The age of this person is ' + str(self.age) +\n",
    "              '; The role of this person is ' + self.role)"
   ]
  },
  {
   "cell_type": "code",
   "execution_count": 25,
   "metadata": {},
   "outputs": [],
   "source": [
    "bob = Person()\n",
    "tod = Person()\n",
    "doug = Person()"
   ]
  },
  {
   "cell_type": "code",
   "execution_count": 11,
   "metadata": {},
   "outputs": [
    {
     "ename": "NameError",
     "evalue": "name 'doug' is not defined",
     "output_type": "error",
     "traceback": [
      "\u001b[1;31m---------------------------------------------------------------------------\u001b[0m",
      "\u001b[1;31mNameError\u001b[0m                                 Traceback (most recent call last)",
      "Cell \u001b[1;32mIn[11], line 1\u001b[0m\n\u001b[1;32m----> 1\u001b[0m \u001b[43mdoug\u001b[49m\u001b[38;5;241m.\u001b[39mname\n",
      "\u001b[1;31mNameError\u001b[0m: name 'doug' is not defined"
     ]
    }
   ],
   "source": [
    "doug.name\n",
    "# this will not work because there is no __init__ method in the class Person"
   ]
  },
  {
   "cell_type": "code",
   "execution_count": 19,
   "metadata": {},
   "outputs": [
    {
     "data": {
      "text/plain": [
       "__main__.Person"
      ]
     },
     "execution_count": 19,
     "metadata": {},
     "output_type": "execute_result"
    }
   ],
   "source": [
    "type(bob)"
   ]
  },
  {
   "cell_type": "code",
   "execution_count": 27,
   "metadata": {},
   "outputs": [
    {
     "name": "stdout",
     "output_type": "stream",
     "text": [
      "The person Bob has been created.\n"
     ]
    }
   ],
   "source": [
    "bob.create_person(['Bob', 20, 'Professor'])"
   ]
  },
  {
   "cell_type": "code",
   "execution_count": 33,
   "metadata": {},
   "outputs": [
    {
     "name": "stdout",
     "output_type": "stream",
     "text": [
      "The name of this person is Bob; The age of this person is 20; The role of this person is Professor\n"
     ]
    }
   ],
   "source": [
    "bob.display_person()"
   ]
  },
  {
   "cell_type": "code",
   "execution_count": 34,
   "metadata": {},
   "outputs": [
    {
     "name": "stdout",
     "output_type": "stream",
     "text": [
      "The person Tod has been created.\n",
      "The name of this person is Tod; The age of this person is 18; The role of this person is Musician\n"
     ]
    }
   ],
   "source": [
    "tod.create_person(student2)\n",
    "tod.display_person()"
   ]
  },
  {
   "cell_type": "code",
   "execution_count": 35,
   "metadata": {},
   "outputs": [
    {
     "name": "stdout",
     "output_type": "stream",
     "text": [
      "The person Doug has been created.\n",
      "The name of this person is Doug; The age of this person is 19; The role of this person is Writer\n"
     ]
    }
   ],
   "source": [
    "doug.create_person(student3)\n",
    "doug.display_person()"
   ]
  },
  {
   "cell_type": "code",
   "execution_count": 37,
   "metadata": {},
   "outputs": [
    {
     "data": {
      "text/plain": [
       "'Musician'"
      ]
     },
     "execution_count": 37,
     "metadata": {},
     "output_type": "execute_result"
    }
   ],
   "source": [
    "# How to acess information?\n",
    "tod.role"
   ]
  },
  {
   "cell_type": "code",
   "execution_count": 12,
   "metadata": {},
   "outputs": [],
   "source": [
    "class Car:\n",
    "    def __init__(self):\n",
    "        print('Car object created.')"
   ]
  },
  {
   "cell_type": "code",
   "execution_count": 13,
   "metadata": {},
   "outputs": [
    {
     "name": "stdout",
     "output_type": "stream",
     "text": [
      "Car object created.\n"
     ]
    }
   ],
   "source": [
    "hb20 = Car()"
   ]
  },
  {
   "cell_type": "code",
   "execution_count": 17,
   "metadata": {},
   "outputs": [],
   "source": [
    "# Add an attribute\n",
    "class Car:\n",
    "    def __init__(self, color):\n",
    "        self.color = color\n",
    "        print(f'Car object created. The color of this car is {self.color}')"
   ]
  },
  {
   "cell_type": "code",
   "execution_count": 18,
   "metadata": {},
   "outputs": [
    {
     "name": "stdout",
     "output_type": "stream",
     "text": [
      "Car object created. The color of this car is white\n"
     ]
    }
   ],
   "source": [
    "hb20 = Car('white')"
   ]
  },
  {
   "cell_type": "code",
   "execution_count": 19,
   "metadata": {},
   "outputs": [
    {
     "data": {
      "text/plain": [
       "'white'"
      ]
     },
     "execution_count": 19,
     "metadata": {},
     "output_type": "execute_result"
    }
   ],
   "source": [
    "hb20.color"
   ]
  },
  {
   "cell_type": "code",
   "execution_count": 20,
   "metadata": {},
   "outputs": [],
   "source": [
    "# Methods\n",
    "\n",
    "class Circle:\n",
    "    pi = 3.14\n",
    "\n",
    "    def __init__(self, radius = 1): # it takes 1 as default to avoid an error\n",
    "        self.radius = radius\n",
    "        self.area = radius * radius * Circle.pi\n",
    "\n",
    "    def set_radiu(self, new_radius):\n",
    "        self.radius = new_radius\n",
    "        self.area = new_radius * new_radius * self.pi\n",
    "\n",
    "    def get_circumference(self):\n",
    "        return self.radius * self.pi * 2"
   ]
  },
  {
   "cell_type": "code",
   "execution_count": 23,
   "metadata": {},
   "outputs": [
    {
     "name": "stdout",
     "output_type": "stream",
     "text": [
      "Radius is: 1\n",
      "Area is: 3.14\n",
      "Circumference is: 6.28\n"
     ]
    }
   ],
   "source": [
    "c = Circle()\n",
    "print('Radius is:', c.radius)\n",
    "print('Area is:', c.area)\n",
    "print('Circumference is:', c.get_circumference())"
   ]
  },
  {
   "cell_type": "code",
   "execution_count": 24,
   "metadata": {},
   "outputs": [
    {
     "name": "stdout",
     "output_type": "stream",
     "text": [
      "Radius is: 2\n",
      "Area is: 12.56\n",
      "Circumference is: 12.56\n"
     ]
    }
   ],
   "source": [
    "cc = Circle(2)\n",
    "print('Radius is:', cc.radius)\n",
    "print('Area is:', cc.area)\n",
    "print('Circumference is:', cc.get_circumference())"
   ]
  },
  {
   "cell_type": "code",
   "execution_count": 25,
   "metadata": {},
   "outputs": [],
   "source": [
    "# Inheritance\n",
    "# Person\n",
    "# Person -> Profession\n",
    "# Person -> Profession -> Specialization\n",
    "\n",
    "class Animal:\n",
    "    def __init__(self):\n",
    "        print('Animal created.')\n",
    "    \n",
    "    def who_am_i(self):\n",
    "        print('Animal.')\n",
    "    \n",
    "    def eat(self):\n",
    "        print('Eating.')\n",
    "\n",
    "class Dog(Animal):\n",
    "    def __init__(self):\n",
    "        print('Dog created.')\n",
    "    \n",
    "    def who_am_i(self):\n",
    "         print('Dog.')\n",
    "    \n",
    "    def bark(self):\n",
    "        print('Woof!')"
   ]
  },
  {
   "cell_type": "code",
   "execution_count": 26,
   "metadata": {},
   "outputs": [
    {
     "name": "stdout",
     "output_type": "stream",
     "text": [
      "Dog created.\n"
     ]
    }
   ],
   "source": [
    "dog1 = Dog()"
   ]
  },
  {
   "cell_type": "code",
   "execution_count": 28,
   "metadata": {},
   "outputs": [],
   "source": [
    "class Animal:\n",
    "    def __init__(self):\n",
    "        print('Animal created.')\n",
    "    \n",
    "    def who_am_i(self):\n",
    "        print('Animal.')\n",
    "    \n",
    "    def eat(self):\n",
    "        print('Eating.')\n",
    "\n",
    "class Dog(Animal):\n",
    "    def __init__(self):\n",
    "        Animal.__init__(self) # it runs the init of Animal class\n",
    "        print('Dog created.')\n",
    "    \n",
    "    def who_am_i(self):\n",
    "         print('Dog.')\n",
    "    \n",
    "    def bark(self):\n",
    "        print('Woof!')"
   ]
  },
  {
   "cell_type": "code",
   "execution_count": 29,
   "metadata": {},
   "outputs": [
    {
     "name": "stdout",
     "output_type": "stream",
     "text": [
      "Animal created.\n",
      "Dog created.\n"
     ]
    }
   ],
   "source": [
    "dog2 = Dog()"
   ]
  },
  {
   "cell_type": "code",
   "execution_count": 30,
   "metadata": {},
   "outputs": [
    {
     "name": "stdout",
     "output_type": "stream",
     "text": [
      "Dog.\n"
     ]
    }
   ],
   "source": [
    "dog2.who_am_i() \n",
    "# it gives priority to method who_am_i in the dog class"
   ]
  },
  {
   "cell_type": "code",
   "execution_count": 31,
   "metadata": {},
   "outputs": [
    {
     "name": "stdout",
     "output_type": "stream",
     "text": [
      "Eating.\n"
     ]
    }
   ],
   "source": [
    "dog2.eat() \n",
    "# Inheritance from Animal class"
   ]
  },
  {
   "cell_type": "code",
   "execution_count": 32,
   "metadata": {},
   "outputs": [
    {
     "name": "stdout",
     "output_type": "stream",
     "text": [
      "Woof!\n"
     ]
    }
   ],
   "source": [
    "dog1.bark()"
   ]
  },
  {
   "cell_type": "code",
   "execution_count": 36,
   "metadata": {},
   "outputs": [],
   "source": [
    "# Polymorphism: allows an object to take multiple forms\n",
    "# It allows to define same methods in different classes\n",
    "\n",
    "class Dog:\n",
    "    def __init__(self, name):\n",
    "        self.name = name\n",
    "    \n",
    "    def speak(self):\n",
    "        return self.name + ' says woof!'\n",
    "    \n",
    "class Cat:\n",
    "    def __init__(self, name):\n",
    "        self.name = name\n",
    "    \n",
    "    def speak(self):\n",
    "        return self.name + ' says meoww!'"
   ]
  },
  {
   "cell_type": "code",
   "execution_count": 37,
   "metadata": {},
   "outputs": [
    {
     "name": "stdout",
     "output_type": "stream",
     "text": [
      "Niko says woof!\n",
      "Felix says meoww!\n"
     ]
    }
   ],
   "source": [
    "niko = Dog('Niko')\n",
    "felix = Cat('Felix')\n",
    "\n",
    "# different methods from each class\n",
    "print(niko.speak()) \n",
    "print(felix.speak())"
   ]
  },
  {
   "cell_type": "code",
   "execution_count": 40,
   "metadata": {},
   "outputs": [],
   "source": [
    "class Animal:\n",
    "    def __init__(self,name): # constructor of the class\n",
    "        self.name = name\n",
    "\n",
    "    def speak(self): # abstract method, defined by convention only\n",
    "        raise NotImplementedError('Subclass must implement abstract method')\n",
    "\n",
    "class Dog(Animal):\n",
    "    def speak(self):\n",
    "        return self.name + ' says woof!'\n",
    "    \n",
    "class Cat(Animal):\n",
    "    def speak(self):\n",
    "        return self.name + ' says meoww!'"
   ]
  },
  {
   "cell_type": "code",
   "execution_count": 41,
   "metadata": {},
   "outputs": [],
   "source": [
    "alfredinho = Dog('Alfredinho')\n",
    "snow = Cat('Snow')"
   ]
  },
  {
   "cell_type": "code",
   "execution_count": 42,
   "metadata": {},
   "outputs": [
    {
     "name": "stdout",
     "output_type": "stream",
     "text": [
      "Alfredinho says woof!\n",
      "Snow says meoww!\n"
     ]
    }
   ],
   "source": [
    "print(alfredinho.speak()) \n",
    "print(snow.speak())"
   ]
  },
  {
   "cell_type": "code",
   "execution_count": 43,
   "metadata": {},
   "outputs": [],
   "source": [
    "# Encapsulation: allows to restrict access to attributes and methods of a class\n",
    "# by adding __ in front of the attribute or method definition\n",
    "\n",
    "class Employee(object):\n",
    "    def __init__(self):\n",
    "        self.name = 'myname'\n",
    "        self.age = 29\n",
    "        self.__salary = 10000"
   ]
  },
  {
   "cell_type": "code",
   "execution_count": 44,
   "metadata": {},
   "outputs": [
    {
     "name": "stdout",
     "output_type": "stream",
     "text": [
      "myname\n",
      "29\n"
     ]
    }
   ],
   "source": [
    "obj1 = Employee()\n",
    "print(obj1.name)\n",
    "print(obj1.age)"
   ]
  },
  {
   "cell_type": "code",
   "execution_count": 45,
   "metadata": {},
   "outputs": [
    {
     "ename": "AttributeError",
     "evalue": "'Employee' object has no attribute '__salary'",
     "output_type": "error",
     "traceback": [
      "\u001b[1;31m---------------------------------------------------------------------------\u001b[0m",
      "\u001b[1;31mAttributeError\u001b[0m                            Traceback (most recent call last)",
      "Cell \u001b[1;32mIn[45], line 1\u001b[0m\n\u001b[1;32m----> 1\u001b[0m \u001b[38;5;28mprint\u001b[39m(\u001b[43mobj1\u001b[49m\u001b[38;5;241;43m.\u001b[39;49m\u001b[43m__salary\u001b[49m)\n",
      "\u001b[1;31mAttributeError\u001b[0m: 'Employee' object has no attribute '__salary'"
     ]
    }
   ],
   "source": [
    "print(obj1.__salary) # hidden data"
   ]
  },
  {
   "cell_type": "code",
   "execution_count": 47,
   "metadata": {},
   "outputs": [],
   "source": [
    "class Person(object):\n",
    "    def assign_name_and_age(self, name, age):\n",
    "        self.name = name\n",
    "        self.__age = age\n",
    "        self.__display()\n",
    "        return None\n",
    "        \n",
    "    def __display(self):\n",
    "        print(self.name, self.__age)\n",
    "        return None"
   ]
  },
  {
   "cell_type": "code",
   "execution_count": 48,
   "metadata": {},
   "outputs": [
    {
     "name": "stdout",
     "output_type": "stream",
     "text": [
      "Jorge 33\n"
     ]
    }
   ],
   "source": [
    "per1 = Person()\n",
    "per1.assign_name_and_age('Jorge', 33)"
   ]
  },
  {
   "cell_type": "code",
   "execution_count": 49,
   "metadata": {},
   "outputs": [
    {
     "ename": "AttributeError",
     "evalue": "'Person' object has no attribute '__display'",
     "output_type": "error",
     "traceback": [
      "\u001b[1;31m---------------------------------------------------------------------------\u001b[0m",
      "\u001b[1;31mAttributeError\u001b[0m                            Traceback (most recent call last)",
      "Cell \u001b[1;32mIn[49], line 1\u001b[0m\n\u001b[1;32m----> 1\u001b[0m \u001b[43mper1\u001b[49m\u001b[38;5;241;43m.\u001b[39;49m\u001b[43m__display\u001b[49m()\n",
      "\u001b[1;31mAttributeError\u001b[0m: 'Person' object has no attribute '__display'"
     ]
    }
   ],
   "source": [
    "per1.__display() # private method"
   ]
  },
  {
   "cell_type": "code",
   "execution_count": 50,
   "metadata": {},
   "outputs": [
    {
     "data": {
      "text/plain": [
       "'Jorge'"
      ]
     },
     "execution_count": 50,
     "metadata": {},
     "output_type": "execute_result"
    }
   ],
   "source": [
    "per1.name"
   ]
  },
  {
   "cell_type": "code",
   "execution_count": 8,
   "metadata": {},
   "outputs": [],
   "source": [
    "# Another example\n",
    "\n",
    "class Animal:\n",
    "    def __init__(self, name): # it runs when instantiate the class\n",
    "        self.name = name\n",
    "\n",
    "    def make_sound(self):\n",
    "        pass\n",
    "\n",
    "class Dog(Animal):\n",
    "    def make_sound(self):\n",
    "        return \"Woof!\"\n",
    "\n",
    "class Cat(Animal):\n",
    "    def make_sound(self):\n",
    "        return \"Meow! I'm going to kill you -cofcof Meow!\""
   ]
  },
  {
   "cell_type": "code",
   "execution_count": 9,
   "metadata": {},
   "outputs": [],
   "source": [
    "# Creating objects\n",
    "dog = Dog(\"Rex\")\n",
    "cat = Cat(\"Floquinho\")"
   ]
  },
  {
   "cell_type": "code",
   "execution_count": 10,
   "metadata": {},
   "outputs": [
    {
     "name": "stdout",
     "output_type": "stream",
     "text": [
      "Rex says Woof!\n",
      "Floquinho says Meow! I'm going to kill you -cofcof Meow!\n"
     ]
    }
   ],
   "source": [
    "# Using polymorphism\n",
    "animals = [dog, cat]\n",
    "\n",
    "for animal in animals:\n",
    "    print(f\"{animal.name} says {animal.make_sound()}\")"
   ]
  },
  {
   "cell_type": "markdown",
   "metadata": {},
   "source": [
    "1. **OOP Exercise 1**:\n",
    "- Create a vehicle class with max_spedd and mileage instance attributes."
   ]
  },
  {
   "cell_type": "code",
   "execution_count": 61,
   "metadata": {},
   "outputs": [],
   "source": [
    "class Vehicle:\n",
    "    def __init__(self, max_speed, mileage):\n",
    "        self.max_speed = max_speed\n",
    "        self.mileage = mileage"
   ]
  },
  {
   "cell_type": "code",
   "execution_count": 56,
   "metadata": {},
   "outputs": [
    {
     "name": "stdout",
     "output_type": "stream",
     "text": [
      "130 20\n"
     ]
    }
   ],
   "source": [
    "veh1 = Vehicle(130,20)\n",
    "print(veh1.max_speed, veh1.mileage)"
   ]
  },
  {
   "cell_type": "code",
   "execution_count": 57,
   "metadata": {},
   "outputs": [
    {
     "name": "stdout",
     "output_type": "stream",
     "text": [
      "Help on class Vehicle in module __main__:\n",
      "\n",
      "class Vehicle(builtins.object)\n",
      " |  Vehicle(max_speed, mileage)\n",
      " |  \n",
      " |  Methods defined here:\n",
      " |  \n",
      " |  __init__(self, max_speed, mileage)\n",
      " |      Initialize self.  See help(type(self)) for accurate signature.\n",
      " |  \n",
      " |  ----------------------------------------------------------------------\n",
      " |  Data descriptors defined here:\n",
      " |  \n",
      " |  __dict__\n",
      " |      dictionary for instance variables (if defined)\n",
      " |  \n",
      " |  __weakref__\n",
      " |      list of weak references to the object (if defined)\n",
      "\n"
     ]
    }
   ],
   "source": [
    "help(Vehicle)"
   ]
  },
  {
   "cell_type": "markdown",
   "metadata": {},
   "source": [
    "2. **OOP Exercise 2**:\n",
    "- Create a vehicle class without any variables and methods."
   ]
  },
  {
   "cell_type": "code",
   "execution_count": 58,
   "metadata": {},
   "outputs": [
    {
     "name": "stdout",
     "output_type": "stream",
     "text": [
      "Help on class Vehicle in module __main__:\n",
      "\n",
      "class Vehicle(builtins.object)\n",
      " |  Data descriptors defined here:\n",
      " |  \n",
      " |  __dict__\n",
      " |      dictionary for instance variables (if defined)\n",
      " |  \n",
      " |  __weakref__\n",
      " |      list of weak references to the object (if defined)\n",
      "\n"
     ]
    }
   ],
   "source": [
    "class Vehicle:\n",
    "    pass\n",
    "\n",
    "help(Vehicle)"
   ]
  },
  {
   "cell_type": "markdown",
   "metadata": {},
   "source": [
    "3. **OOP Exercise 3**:\n",
    "- Create a child class Bus that will inherit all of the variables and methods of the Vehicle class:"
   ]
  },
  {
   "cell_type": "code",
   "execution_count": 64,
   "metadata": {},
   "outputs": [],
   "source": [
    "class Vehicle:\n",
    "    def __init__(self, name, max_speed, mileage):\n",
    "        self.name = name\n",
    "        self.max_speed = max_speed\n",
    "        self.mileage = mileage"
   ]
  },
  {
   "cell_type": "code",
   "execution_count": 66,
   "metadata": {},
   "outputs": [],
   "source": [
    "class Bus(Vehicle):\n",
    "    pass"
   ]
  },
  {
   "cell_type": "code",
   "execution_count": 69,
   "metadata": {},
   "outputs": [
    {
     "name": "stdout",
     "output_type": "stream",
     "text": [
      "Vehicle Name: Bus Volvo ; Max speed: 180 ; Mileage: 12\n"
     ]
    }
   ],
   "source": [
    "bus1 = Bus('Bus Volvo',180,12)\n",
    "print('Vehicle Name:', bus1.name, '; Max speed:', bus1.max_speed, '; Mileage:', bus1.mileage)"
   ]
  },
  {
   "cell_type": "markdown",
   "metadata": {},
   "source": [
    "4. **OOP Exercise 4**: Class Inheritance\n",
    "- Given: Create a Buss class that inherits from the Vehicle class. Give the capacity argument of Bus.seating_capacity() a default value of 50.\n",
    "- Use the following code for yout parent Vehicle class. You need to use method overriding."
   ]
  },
  {
   "cell_type": "code",
   "execution_count": 72,
   "metadata": {},
   "outputs": [],
   "source": [
    "class Vehicle:\n",
    "    def __init__(self, name, max_speed, mileage):\n",
    "        self.name = name\n",
    "        self.max_speed = max_speed\n",
    "        self.mileage = mileage\n",
    "    \n",
    "    def seating_capacity(self, capacity):\n",
    "        return f'The seating capacity of a {self.name} is {capacity} passengers.'"
   ]
  },
  {
   "cell_type": "code",
   "execution_count": 86,
   "metadata": {},
   "outputs": [],
   "source": [
    "class Bus(Vehicle):\n",
    "    def seating_capacity(self, capacity = 50):\n",
    "        return super().seating_capacity(capacity=50)"
   ]
  },
  {
   "cell_type": "code",
   "execution_count": 90,
   "metadata": {},
   "outputs": [
    {
     "name": "stdout",
     "output_type": "stream",
     "text": [
      "The seating capacity of a Bus Renault is 50 passengers.\n"
     ]
    }
   ],
   "source": [
    "bus2 = Bus('Bus Renault',180,12)\n",
    "print(bus2.seating_capacity())"
   ]
  },
  {
   "cell_type": "markdown",
   "metadata": {},
   "source": [
    "5. **OOP Exercise 5**:\n",
    "- Define property that should have the same value for every class instance.\n",
    "- Define a class attribute 'color' with a default value white (every vehicle should be white)."
   ]
  },
  {
   "cell_type": "code",
   "execution_count": 93,
   "metadata": {},
   "outputs": [],
   "source": [
    "class Vehicle:\n",
    "    color = 'White'\n",
    "    # Instance variables\n",
    "    def __init__(self, name, max_speed, mileage):\n",
    "        self.name = name\n",
    "        self.max_speed = max_speed\n",
    "        self.mileage = mileage\n",
    "    \n",
    "class Bus(Vehicle):\n",
    "    pass\n",
    "\n",
    "class Car(Vehicle):\n",
    "    pass"
   ]
  },
  {
   "cell_type": "code",
   "execution_count": 95,
   "metadata": {},
   "outputs": [
    {
     "name": "stdout",
     "output_type": "stream",
     "text": [
      "Color: White, Vehicle name: Renault, Speed: 180, Mileage: 12\n",
      "Color: White, Vehicle name: Audi Q5, Speed: 180, Mileage: 12\n"
     ]
    }
   ],
   "source": [
    "bus = Bus('Renault',180,12)\n",
    "car = Car('Audi Q5',180,12)\n",
    "print(f'Color: {Vehicle.color}, Vehicle name: {bus.name}, Speed: {bus.max_speed}, Mileage: {bus.mileage}')\n",
    "print(f'Color: {Vehicle.color}, Vehicle name: {car.name}, Speed: {car.max_speed}, Mileage: {car.mileage}')"
   ]
  },
  {
   "cell_type": "markdown",
   "metadata": {},
   "source": [
    "6. **OOP Exercise 6**: Class Inheritance\n",
    "- Create a bus child class that inherits from the vehicle class. The default fare charge of any vehicle is seating capacity *100. If Vehicle is Bus instance, we need to add an extra 10% on full fare as maintenance. So total ffare for bus instance will become the final amount = total fare + 10% of the total fare.\n",
    "- The bus seating capacity is 50, so the final fare amount should be 5500. You need to override the fare() method of Vehicle class in Bus class."
   ]
  },
  {
   "cell_type": "code",
   "execution_count": 108,
   "metadata": {},
   "outputs": [],
   "source": [
    "class Vehicle:\n",
    "    def __init__(self, name, mileage, capacity):\n",
    "        self.name = name\n",
    "        self.mileage = mileage\n",
    "        self.capacity = capacity\n",
    "        \n",
    "    def fare(self):\n",
    "        return self.capacity * 100"
   ]
  },
  {
   "cell_type": "code",
   "execution_count": 113,
   "metadata": {},
   "outputs": [],
   "source": [
    "class Bus(Vehicle):\n",
    "    def fare(self):\n",
    "        amount = super().fare()\n",
    "        amount += (amount * 0.1)\n",
    "        return amount"
   ]
  },
  {
   "cell_type": "code",
   "execution_count": 114,
   "metadata": {},
   "outputs": [
    {
     "name": "stdout",
     "output_type": "stream",
     "text": [
      "Total bus fare is: 5500.0\n"
     ]
    }
   ],
   "source": [
    "school_bus = Bus('Volvo', 12,50)\n",
    "print('Total bus fare is:', school_bus.fare())"
   ]
  },
  {
   "cell_type": "markdown",
   "metadata": {},
   "source": [
    "7. **OOP Exercise 7**: \n",
    "- Determine which class a given Bus obejct belongs to (Check type of an object)"
   ]
  },
  {
   "cell_type": "code",
   "execution_count": 115,
   "metadata": {},
   "outputs": [],
   "source": [
    "class Vehicle:\n",
    "    def __init__(self, name, mileage, capacity):\n",
    "        self.name = name\n",
    "        self.mileage = mileage\n",
    "        self.capacity = capacity\n",
    "\n",
    "class Buss(Vehicle):\n",
    "    pass"
   ]
  },
  {
   "cell_type": "code",
   "execution_count": 116,
   "metadata": {},
   "outputs": [
    {
     "data": {
      "text/plain": [
       "__main__.Bus"
      ]
     },
     "execution_count": 116,
     "metadata": {},
     "output_type": "execute_result"
    }
   ],
   "source": [
    "school_bus = Bus('Volvo', 12,50)\n",
    "type(school_bus)"
   ]
  }
 ],
 "metadata": {
  "kernelspec": {
   "display_name": "venv",
   "language": "python",
   "name": "python3"
  },
  "language_info": {
   "codemirror_mode": {
    "name": "ipython",
    "version": 3
   },
   "file_extension": ".py",
   "mimetype": "text/x-python",
   "name": "python",
   "nbconvert_exporter": "python",
   "pygments_lexer": "ipython3",
   "version": "3.11.5"
  }
 },
 "nbformat": 4,
 "nbformat_minor": 2
}
